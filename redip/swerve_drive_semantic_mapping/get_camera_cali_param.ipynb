{
 "cells": [
  {
   "cell_type": "code",
   "execution_count": 18,
   "metadata": {},
   "outputs": [],
   "source": [
    "import cv2\n",
    "import numpy as np\n",
    "\n",
    "fx = 1384.647695\n",
    "cx = 959.066302\n",
    "fy = 1384.696748\n",
    "cy = 540.008542\n",
    "camera_matrix = np.array([[fx, 0, cx], [0, fy, cy], [0, 0, 1]])  # 카메라 매트릭스 초기화\n",
    "\n",
    "# 2D-image coordination\n",
    "points_2D = np.array([\n",
    "\t# 3m area\n",
    "\t(361, 695),\n",
    "\t(618, 695),\n",
    "\t(873, 645),\n",
    "\t(1049, 645),\n",
    "    (1293, 654),\n",
    "    (1481, 654),\n",
    "    (1819, 702),\n",
    "    #1m area\n",
    "    (55,793),\n",
    "    (310,793),\n",
    "    (497,757),\n",
    "    (722,757),\n",
    "    (823,794),\n",
    "    (1088,794),\n",
    "    (1231,767),\n",
    "    (1471,767),\n",
    "    (1548,752),\n",
    "    (1776,752),\n",
    "    \n",
    "    (983, 751),\n",
    "    (1628, 825),\n",
    "    \n",
    "\t(222, 902),\n",
    "    (957, 902),\n",
    "], dtype=\"double\")\n",
    "\n",
    "# 3D-World coordinations correspond to 2D-image coordinations\n",
    "points_3D = np.array([\n",
    "\t(2.5932, 1.0842, 0),\n",
    "    (2.5668, 0.70819, 0),\n",
    "\t(3.77331, 0.20543, 0),\n",
    "\t(3.7944, -0.2993, 0),\n",
    "\t(3.5843, -0.88828, 0),\n",
    "    (3.5597, -1.3907, 0),\n",
    "    (2.5, -1.49, 0),\n",
    "    \n",
    "\t(1.5879, 0.98852, 0),\n",
    "    (1.5858, 0.71532, 0),\n",
    "    (1.7205, 0.49851, 0),\n",
    "    (1.7294, 0.2107, 0),\n",
    "    (1.6262, 0.16944, 0),\n",
    "    (1.4682, -0.2358, 0),\n",
    "    (1.6417, -0.45515, 0),\n",
    "    (1.636, -0.73643, 0),\n",
    "    (1.7378, -0.87344, 0),\n",
    "    (1.7185, -1.1506, 0),\n",
    "    \n",
    "\t(1.8232, -0.10572, 0),\n",
    "    (1.3562, -0.7, 0),\n",
    "    \n",
    "\t(1.1166, 0.48393, 0),\n",
    "    (1.0933, -0.080393, 0)\n",
    "], dtype=\"double\")"
   ]
  },
  {
   "cell_type": "code",
   "execution_count": 19,
   "metadata": {},
   "outputs": [],
   "source": [
    "dist_coeffs = np.array([0, 0, 0, 0, 0])\n",
    " # using solvePnP to calculate R, t\n",
    "retval, rvec, tvec = cv2.solvePnP(points_3D, points_2D, camera_matrix, dist_coeffs, rvec=None, tvec=None, useExtrinsicGuess=None, flags=None)"
   ]
  },
  {
   "cell_type": "code",
   "execution_count": 20,
   "metadata": {},
   "outputs": [
    {
     "data": {
      "text/plain": [
       "array([[ 1.21418319],\n",
       "       [-1.19095043],\n",
       "       [ 1.17409947]])"
      ]
     },
     "execution_count": 20,
     "metadata": {},
     "output_type": "execute_result"
    }
   ],
   "source": [
    "rvec"
   ]
  },
  {
   "cell_type": "code",
   "execution_count": 21,
   "metadata": {},
   "outputs": [
    {
     "data": {
      "text/plain": [
       "array([[-0.13813353],\n",
       "       [ 0.28884489],\n",
       "       [ 0.04034645]])"
      ]
     },
     "execution_count": 21,
     "metadata": {},
     "output_type": "execute_result"
    }
   ],
   "source": [
    "tvec"
   ]
  },
  {
   "cell_type": "code",
   "execution_count": 6,
   "metadata": {},
   "outputs": [
    {
     "name": "stdout",
     "output_type": "stream",
     "text": [
      "retval :True, rvec: [[ 1.1539897 ]\n",
      " [-1.29744072]\n",
      " [ 1.31961733]], tvec :[[ 0.44848007]\n",
      " [ 0.27206959]\n",
      " [-0.12309928]]\n"
     ]
    }
   ],
   "source": [
    "print(f\"retval :{retval}, rvec: {rvec}, tvec :{tvec}\")"
   ]
  },
  {
   "cell_type": "code",
   "execution_count": 5,
   "metadata": {},
   "outputs": [
    {
     "data": {
      "text/plain": [
       "array([[-0.64675574, -0.76195998, -0.03352608],\n",
       "       [-0.12838427,  0.06543267,  0.98956356],\n",
       "       [-0.75181413,  0.64431014, -0.14014263]])"
      ]
     },
     "execution_count": 5,
     "metadata": {},
     "output_type": "execute_result"
    }
   ],
   "source": [
    "rvec, _ = cv2.Rodrigues(rvec)\n",
    "\n",
    "rvec"
   ]
  },
  {
   "cell_type": "code",
   "execution_count": 7,
   "metadata": {},
   "outputs": [],
   "source": [
    "img_path = '/home/kmg/ros2_image_save_code/output_image.png'\n",
    "\n",
    "img= cv2.imread(img_path)"
   ]
  },
  {
   "cell_type": "code",
   "execution_count": 10,
   "metadata": {},
   "outputs": [],
   "source": [
    "# 원하는 해상도 설정 (1920x1080)\n",
    "width = 1920\n",
    "height = 1080\n",
    "dim = (width, height)\n",
    "\n",
    "# 이미지 리사이즈\n",
    "resized_img = cv2.resize(img, dim, interpolation=cv2.INTER_AREA)\n",
    "\n"
   ]
  },
  {
   "cell_type": "code",
   "execution_count": 13,
   "metadata": {},
   "outputs": [
    {
     "data": {
      "image/png": "[encoded data removed]",
      "text/plain": [
       "<Figure size 640x480 with 1 Axes>"
      ]
     },
     "metadata": {},
     "output_type": "display_data"
    }
   ],
   "source": [
    "import matplotlib.pyplot as plt\n",
    "\n",
    "# 이미지를 BGR에서 RGB로 변환 (matplotlib는 RGB 이미지를 사용합니다)\n",
    "resized_img_rgb = cv2.cvtColor(resized_img, cv2.COLOR_BGR2RGB)\n",
    "\n",
    "# 이미지를 matplotlib를 사용해 표시\n",
    "plt.imshow(resized_img_rgb)\n",
    "plt.axis('off')  # 축을 숨기려면 사용\n",
    "plt.show()"
   ]
  },
  {
   "cell_type": "code",
   "execution_count": 14,
   "metadata": {},
   "outputs": [
    {
     "data": {
      "text/plain": [
       "True"
      ]
     },
     "execution_count": 14,
     "metadata": {},
     "output_type": "execute_result"
    }
   ],
   "source": [
    "\n",
    "# 리사이즈된 이미지 저장 (선택적)\n",
    "output_path = '/home/kmg/ros2_image_save_code/resized_output_image.png'\n",
    "cv2.imwrite(output_path, resized_img)"
   ]
  },
  {
   "cell_type": "code",
   "execution_count": 1,
   "metadata": {},
   "outputs": [
    {
     "name": "stderr",
     "output_type": "stream",
     "text": [
      "ffmpeg version 4.4.2-0ubuntu0.22.04.1 Copyright (c) 2000-2021 the FFmpeg developers\n",
      "  built with gcc 11 (Ubuntu 11.2.0-19ubuntu1)\n",
      "  configuration: --prefix=/usr --extra-version=0ubuntu0.22.04.1 --toolchain=hardened --libdir=/usr/lib/x86_64-linux-gnu --incdir=/usr/include/x86_64-linux-gnu --arch=amd64 --enable-gpl --disable-stripping --enable-gnutls --enable-ladspa --enable-libaom --enable-libass --enable-libbluray --enable-libbs2b --enable-libcaca --enable-libcdio --enable-libcodec2 --enable-libdav1d --enable-libflite --enable-libfontconfig --enable-libfreetype --enable-libfribidi --enable-libgme --enable-libgsm --enable-libjack --enable-libmp3lame --enable-libmysofa --enable-libopenjpeg --enable-libopenmpt --enable-libopus --enable-libpulse --enable-librabbitmq --enable-librubberband --enable-libshine --enable-libsnappy --enable-libsoxr --enable-libspeex --enable-libsrt --enable-libssh --enable-libtheora --enable-libtwolame --enable-libvidstab --enable-libvorbis --enable-libvpx --enable-libwebp --enable-libx265 --enable-libxml2 --enable-libxvid --enable-libzimg --enable-libzmq --enable-libzvbi --enable-lv2 --enable-omx --enable-openal --enable-opencl --enable-opengl --enable-sdl2 --enable-pocketsphinx --enable-librsvg --enable-libmfx --enable-libdc1394 --enable-libdrm --enable-libiec61883 --enable-chromaprint --enable-frei0r --enable-libx264 --enable-shared\n",
      "  libavutil      56. 70.100 / 56. 70.100\n",
      "  libavcodec     58.134.100 / 58.134.100\n",
      "  libavformat    58. 76.100 / 58. 76.100\n",
      "  libavdevice    58. 13.100 / 58. 13.100\n",
      "  libavfilter     7.110.100 /  7.110.100\n",
      "  libswscale      5.  9.100 /  5.  9.100\n",
      "  libswresample   3.  9.100 /  3.  9.100\n",
      "  libpostproc    55.  9.100 / 55.  9.100\n",
      "Input #0, matroska,webm, from '/home/kmg/Videos/스크린캐스트/gazebo_cpu.webm':\n",
      "  Metadata:\n",
      "    encoder         : GStreamer matroskamux version 1.20.3\n",
      "    creation_time   : 2024-08-22T17:30:04.427395Z\n",
      "  Duration: 00:00:24.45, start: 0.000000, bitrate: 6473 kb/s\n",
      "  Stream #0:0(eng): Video: vp8, yuv420p(tv, bt709, progressive), 3654x2115, SAR 1:1 DAR 406:235, 1k tbr, 1k tbn, 1k tbc (default)\n",
      "    Metadata:\n",
      "      title           : Video\n",
      "Stream mapping:\n",
      "  Stream #0:0 -> #0:0 (vp8 (native) -> h264 (libx264))\n",
      "Press [q] to stop, [?] for help\n",
      "[libx264 @ 0x557ce8211840] using SAR=3698/1667\n",
      "[libx264 @ 0x557ce8211840] using cpu capabilities: MMX2 SSE2Fast SSSE3 SSE4.2 AVX FMA3 BMI2 AVX2\n",
      "[libx264 @ 0x557ce8211840] profile High, level 6.2, 4:2:0, 8-bit\n",
      "[libx264 @ 0x557ce8211840] 264 - core 163 r3060 5db6aa6 - H.264/MPEG-4 AVC codec - Copyleft 2003-2021 - http://www.videolan.org/x264.html - options: cabac=1 ref=3 deblock=1:0:0 analyse=0x3:0x113 me=hex subme=7 psy=1 psy_rd=1.00:0.00 mixed_ref=1 me_range=16 chroma_me=1 trellis=1 8x8dct=1 cqm=0 deadzone=21,11 fast_pskip=1 chroma_qp_offset=-2 threads=48 lookahead_threads=8 sliced_threads=0 nr=0 decimate=1 interlaced=0 bluray_compat=0 constrained_intra=0 bframes=3 b_pyramid=2 b_adapt=1 b_bias=0 direct=1 weightb=1 open_gop=0 weightp=2 keyint=250 keyint_min=25 scenecut=40 intra_refresh=0 rc_lookahead=40 rc=crf mbtree=1 crf=23.0 qcomp=0.60 qpmin=0 qpmax=69 qpstep=4 ip_ratio=1.40 aq=1:1.00\n",
      "Output #0, mp4, to '/home/kmg/gazebo_cpu.mp4':\n",
      "  Metadata:\n",
      "    encoder         : Lavf58.76.100\n",
      "  Stream #0:0(eng): Video: h264 (avc1 / 0x31637661), yuv420p(tv, bt470bg/bt709/bt709, progressive), 1352x1736 [SAR 88102:39715 DAR 406:235], q=2-31, 1k fps, 16k tbn (default)\n",
      "    Metadata:\n",
      "      title           : Video\n",
      "      encoder         : Lavc58.134.100 libx264\n",
      "    Side data:\n",
      "      cpb: bitrate max/min/avg: 0/0/0 buffer size: 0 vbv_delay: N/A\n",
      "More than 1000 frames duplicated     768kB time=00:00:00.84 bitrate=7427.8kbits/s dup=912 drop=0 speed=0.308x    \n",
      "More than 10000 frames duplicated   8960kB time=00:00:10.08 bitrate=7281.0kbits/s dup=9872 drop=0 speed=0.354x    \n",
      "frame=24476 fps=358 q=-1.0 Lsize=   21282kB time=00:00:24.47 bitrate=7124.0kbits/s dup=23748 drop=0 speed=0.358x    \n",
      "video:20995kB audio:0kB subtitle:0kB other streams:0kB global headers:0kB muxing overhead: 1.370034%\n",
      "[libx264 @ 0x557ce8211840] frame I:98    Avg QP:19.91  size:165261\n",
      "[libx264 @ 0x557ce8211840] frame P:6168  Avg QP:26.80  size:   554\n",
      "[libx264 @ 0x557ce8211840] frame B:18210 Avg QP:38.30  size:   103\n",
      "[libx264 @ 0x557ce8211840] consecutive B-frames:  0.8%  0.0%  0.0% 99.2%\n",
      "[libx264 @ 0x557ce8211840] mb I  I16..4: 31.5% 31.9% 36.6%\n",
      "[libx264 @ 0x557ce8211840] mb P  I16..4:  0.0%  0.1%  0.0%  P16..4:  0.2%  0.1%  0.0%  0.0%  0.0%    skip:99.6%\n",
      "[libx264 @ 0x557ce8211840] mb B  I16..4:  0.0%  0.0%  0.0%  B16..8:  0.4%  0.0%  0.0%  direct: 0.0%  skip:99.6%  L0:36.8% L1:63.2% BI: 0.0%\n",
      "[libx264 @ 0x557ce8211840] 8x8 transform intra:34.9% inter:30.2%\n",
      "[libx264 @ 0x557ce8211840] coded y,uvDC,uvAC intra: 29.0% 23.4% 19.6% inter: 0.0% 0.0% 0.0%\n",
      "[libx264 @ 0x557ce8211840] i16 v,h,dc,p: 60% 40%  1%  0%\n",
      "[libx264 @ 0x557ce8211840] i8 v,h,dc,ddl,ddr,vr,hd,vl,hu: 52% 23% 23%  0%  0%  0%  0%  0%  1%\n",
      "[libx264 @ 0x557ce8211840] i4 v,h,dc,ddl,ddr,vr,hd,vl,hu: 50% 24%  8%  2%  3%  4%  3%  3%  3%\n",
      "[libx264 @ 0x557ce8211840] i8c dc,h,v,p: 79%  9% 11%  1%\n",
      "[libx264 @ 0x557ce8211840] Weighted P-Frames: Y:0.0% UV:0.0%\n",
      "[libx264 @ 0x557ce8211840] ref P L0: 84.0%  6.8%  7.1%  2.1%\n",
      "[libx264 @ 0x557ce8211840] ref B L0: 69.8% 28.5%  1.7%\n",
      "[libx264 @ 0x557ce8211840] ref B L1: 96.3%  3.7%\n",
      "[libx264 @ 0x557ce8211840] kb/s:7026.61\n"
     ]
    },
    {
     "name": "stdout",
     "output_type": "stream",
     "text": [
      "Conversion successful: /home/kmg/gazebo_cpu.mp4\n"
     ]
    }
   ],
   "source": [
    "import ffmpeg\n",
    "\n",
    "def convert_webm_to_mp4(input_file: str, output_file: str):\n",
    "    try:\n",
    "        ffmpeg.input(input_file).output(output_file, vf=\"scale=1352:1736\").run()\n",
    "        print(f\"Conversion successful: {output_file}\")\n",
    "    except ffmpeg.Error as e:\n",
    "        print(f\"Error occurred during conversion: {e.stderr.decode('utf8')}\")\n",
    "\n",
    "# 예시 사용법\n",
    "input_path = '/home/kmg/Videos/스크린캐스트/gazebo_cpu.webm'  # 변환할 WEBM 파일의 경로\n",
    "output_path = '/home/kmg/gazebo_cpu.mp4'  # 변환된 MP4 파일의 경로\n",
    "\n",
    "convert_webm_to_mp4(input_path, output_path)\n"
   ]
  },
  {
   "cell_type": "code",
   "execution_count": null,
   "metadata": {},
   "outputs": [],
   "source": []
  }
 ],
 "metadata": {
  "kernelspec": {
   "display_name": "Python 3",
   "language": "python",
   "name": "python3"
  },
  "language_info": {
   "codemirror_mode": {
    "name": "ipython",
    "version": 3
   },
   "file_extension": ".py",
   "mimetype": "text/x-python",
   "name": "python",
   "nbconvert_exporter": "python",
   "pygments_lexer": "ipython3",
   "version": "3.10.12"
  }
 },
 "nbformat": 4,
 "nbformat_minor": 2
}
